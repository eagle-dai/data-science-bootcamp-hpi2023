{
 "cells": [
  {
   "cell_type": "markdown",
   "metadata": {
    "id": "WBMavyuA6msA"
   },
   "source": [
    "# Introduction to EDA\n",
    "\n",
    "This is the third practical exercise of our course [Data Sciecne Bootcamp](https://open.hpi.de/courses/datascience2023).\n",
    "In this exercise, you are going to practice and use Python's Pandas and Seaborn libraries to perfrom EDA on the Titanic Dataset\n",
    "\n",
    "---\n",
    "\n",
    "## Introduction to the Titanic Dataset\n",
    "\n",
    "The Titanic dataset is a well-known dataset in the field of data science and provides insights into the passengers who were on board the Titanic when it sank. The dataset includes information such as the passenger's age, sex, class, and whether they survived or not. Through the process of EDA, you can analyze this dataset and uncover exciting insights about the passengers and their journey on the Titanic. So, get ready to dive into the data and explore the Titanic dataset!\n",
    "\n",
    "## **Important Note:**\n",
    "The Titanic dataset used in this exercise has been optimized for processing purposes, so we highly recommend using the provided file. However, if you wish to download the file and work on it locally, you may do so.\n",
    "\n",
    "---\n",
    "\\\n",
    "Here is a reminder about the technical limitations on this programming platform **OpenJupyter**:\n",
    "\n",
    "#### Inactivity and Saving\n",
    "\n",
    "- After 15 minutes of inactivity, the Python kernel shuts down, but the kernel is easy to restart if you continue your work within 60 minutes.\n",
    "- After 60 minutes of inactivity the data is deleted to free up resources for other users.\n",
    "- Therefore, please save the notebook locally (click \"File\" -> \"Download\") if you are pausing your work on the notebook for more than one hour. (We have put a reminder to save the notebook after each task.)\n",
    "- If you have to restore your work from a downloaded notebook, press the Upload Button (see image below)\n",
    "and select your locally saved `.ipynb` file (confirm to overwrite).\n",
    "\n",
    "#### Grading\n",
    "\n",
    "- The notebook name should remain **unchanged**\n",
    "- The grading process relies on the existing cell order.\n",
    "- Therefore: Do not create new cells and do not delete existing cells in the notebook.\n",
    "- If you need/want to create new cells in the notebook, you can add them after the grading code.\n",
    "- If you need/want to have a draft notebook, use the JupyterLab_playground.ipynb notebook provided in this directory"
   ]
  },
  {
   "cell_type": "code",
   "execution_count": 1,
   "metadata": {
    "id": "4xQCve5cHHa3"
   },
   "outputs": [],
   "source": [
    "# Run this cell first\n",
    "from Ex3_Grader import *"
   ]
  },
  {
   "cell_type": "markdown",
   "metadata": {
    "id": "8e7La0rX6msE"
   },
   "source": [
    "# Task 1: Load the Titanic dataset into a Pandas dataframe and display the head of the dataset.\n",
    "\n",
    "1. Import Pandas module as pd\n",
    "2. Load the Titanic dataset into a pandas dataframe and call it titanic\n",
    "3. display the head of the dataset\n",
    "\n"
   ]
  },
  {
   "cell_type": "code",
   "execution_count": 2,
   "metadata": {
    "id": "5zgIeqh6fDh9"
   },
   "outputs": [
    {
     "data": {
      "text/html": [
       "<div>\n",
       "<style scoped>\n",
       "    .dataframe tbody tr th:only-of-type {\n",
       "        vertical-align: middle;\n",
       "    }\n",
       "\n",
       "    .dataframe tbody tr th {\n",
       "        vertical-align: top;\n",
       "    }\n",
       "\n",
       "    .dataframe thead th {\n",
       "        text-align: right;\n",
       "    }\n",
       "</style>\n",
       "<table border=\"1\" class=\"dataframe\">\n",
       "  <thead>\n",
       "    <tr style=\"text-align: right;\">\n",
       "      <th></th>\n",
       "      <th>PassengerId</th>\n",
       "      <th>Survived</th>\n",
       "      <th>Pclass</th>\n",
       "      <th>Name</th>\n",
       "      <th>Sex</th>\n",
       "      <th>Age</th>\n",
       "      <th>SibSp</th>\n",
       "      <th>Parch</th>\n",
       "      <th>Ticket</th>\n",
       "      <th>Fare</th>\n",
       "      <th>Cabin</th>\n",
       "      <th>Embarked</th>\n",
       "    </tr>\n",
       "  </thead>\n",
       "  <tbody>\n",
       "    <tr>\n",
       "      <th>0</th>\n",
       "      <td>1</td>\n",
       "      <td>0</td>\n",
       "      <td>3</td>\n",
       "      <td>Braund, Mr. Owen Harris</td>\n",
       "      <td>male</td>\n",
       "      <td>22.0</td>\n",
       "      <td>1</td>\n",
       "      <td>0</td>\n",
       "      <td>A/5 21171</td>\n",
       "      <td>7.2500</td>\n",
       "      <td>NaN</td>\n",
       "      <td>S</td>\n",
       "    </tr>\n",
       "    <tr>\n",
       "      <th>1</th>\n",
       "      <td>2</td>\n",
       "      <td>1</td>\n",
       "      <td>1</td>\n",
       "      <td>Cumings, Mrs. John Bradley (Florence Briggs Th...</td>\n",
       "      <td>female</td>\n",
       "      <td>38.0</td>\n",
       "      <td>1</td>\n",
       "      <td>0</td>\n",
       "      <td>PC 17599</td>\n",
       "      <td>71.2833</td>\n",
       "      <td>C85</td>\n",
       "      <td>C</td>\n",
       "    </tr>\n",
       "    <tr>\n",
       "      <th>2</th>\n",
       "      <td>3</td>\n",
       "      <td>1</td>\n",
       "      <td>3</td>\n",
       "      <td>Heikkinen, Miss. Laina</td>\n",
       "      <td>female</td>\n",
       "      <td>26.0</td>\n",
       "      <td>0</td>\n",
       "      <td>0</td>\n",
       "      <td>STON/O2. 3101282</td>\n",
       "      <td>7.9250</td>\n",
       "      <td>NaN</td>\n",
       "      <td>S</td>\n",
       "    </tr>\n",
       "    <tr>\n",
       "      <th>3</th>\n",
       "      <td>4</td>\n",
       "      <td>1</td>\n",
       "      <td>1</td>\n",
       "      <td>Futrelle, Mrs. Jacques Heath (Lily May Peel)</td>\n",
       "      <td>female</td>\n",
       "      <td>35.0</td>\n",
       "      <td>1</td>\n",
       "      <td>0</td>\n",
       "      <td>113803</td>\n",
       "      <td>53.1000</td>\n",
       "      <td>C123</td>\n",
       "      <td>S</td>\n",
       "    </tr>\n",
       "    <tr>\n",
       "      <th>4</th>\n",
       "      <td>5</td>\n",
       "      <td>0</td>\n",
       "      <td>3</td>\n",
       "      <td>Allen, Mr. William Henry</td>\n",
       "      <td>male</td>\n",
       "      <td>35.0</td>\n",
       "      <td>0</td>\n",
       "      <td>0</td>\n",
       "      <td>373450</td>\n",
       "      <td>8.0500</td>\n",
       "      <td>NaN</td>\n",
       "      <td>S</td>\n",
       "    </tr>\n",
       "    <tr>\n",
       "      <th>5</th>\n",
       "      <td>6</td>\n",
       "      <td>0</td>\n",
       "      <td>3</td>\n",
       "      <td>Moran, Mr. James</td>\n",
       "      <td>male</td>\n",
       "      <td>NaN</td>\n",
       "      <td>0</td>\n",
       "      <td>0</td>\n",
       "      <td>330877</td>\n",
       "      <td>8.4583</td>\n",
       "      <td>NaN</td>\n",
       "      <td>Q</td>\n",
       "    </tr>\n",
       "    <tr>\n",
       "      <th>6</th>\n",
       "      <td>7</td>\n",
       "      <td>0</td>\n",
       "      <td>1</td>\n",
       "      <td>McCarthy, Mr. Timothy J</td>\n",
       "      <td>male</td>\n",
       "      <td>54.0</td>\n",
       "      <td>0</td>\n",
       "      <td>0</td>\n",
       "      <td>17463</td>\n",
       "      <td>51.8625</td>\n",
       "      <td>E46</td>\n",
       "      <td>S</td>\n",
       "    </tr>\n",
       "    <tr>\n",
       "      <th>7</th>\n",
       "      <td>8</td>\n",
       "      <td>0</td>\n",
       "      <td>3</td>\n",
       "      <td>Palsson, Master. Gosta Leonard</td>\n",
       "      <td>male</td>\n",
       "      <td>2.0</td>\n",
       "      <td>3</td>\n",
       "      <td>1</td>\n",
       "      <td>349909</td>\n",
       "      <td>21.0750</td>\n",
       "      <td>NaN</td>\n",
       "      <td>S</td>\n",
       "    </tr>\n",
       "    <tr>\n",
       "      <th>8</th>\n",
       "      <td>9</td>\n",
       "      <td>1</td>\n",
       "      <td>3</td>\n",
       "      <td>Johnson, Mrs. Oscar W (Elisabeth Vilhelmina Berg)</td>\n",
       "      <td>female</td>\n",
       "      <td>27.0</td>\n",
       "      <td>0</td>\n",
       "      <td>2</td>\n",
       "      <td>347742</td>\n",
       "      <td>11.1333</td>\n",
       "      <td>NaN</td>\n",
       "      <td>S</td>\n",
       "    </tr>\n",
       "    <tr>\n",
       "      <th>9</th>\n",
       "      <td>10</td>\n",
       "      <td>1</td>\n",
       "      <td>2</td>\n",
       "      <td>Nasser, Mrs. Nicholas (Adele Achem)</td>\n",
       "      <td>female</td>\n",
       "      <td>14.0</td>\n",
       "      <td>1</td>\n",
       "      <td>0</td>\n",
       "      <td>237736</td>\n",
       "      <td>30.0708</td>\n",
       "      <td>NaN</td>\n",
       "      <td>C</td>\n",
       "    </tr>\n",
       "  </tbody>\n",
       "</table>\n",
       "</div>"
      ],
      "text/plain": [
       "   PassengerId  Survived  Pclass  \\\n",
       "0            1         0       3   \n",
       "1            2         1       1   \n",
       "2            3         1       3   \n",
       "3            4         1       1   \n",
       "4            5         0       3   \n",
       "5            6         0       3   \n",
       "6            7         0       1   \n",
       "7            8         0       3   \n",
       "8            9         1       3   \n",
       "9           10         1       2   \n",
       "\n",
       "                                                Name     Sex   Age  SibSp  \\\n",
       "0                            Braund, Mr. Owen Harris    male  22.0      1   \n",
       "1  Cumings, Mrs. John Bradley (Florence Briggs Th...  female  38.0      1   \n",
       "2                             Heikkinen, Miss. Laina  female  26.0      0   \n",
       "3       Futrelle, Mrs. Jacques Heath (Lily May Peel)  female  35.0      1   \n",
       "4                           Allen, Mr. William Henry    male  35.0      0   \n",
       "5                                   Moran, Mr. James    male   NaN      0   \n",
       "6                            McCarthy, Mr. Timothy J    male  54.0      0   \n",
       "7                     Palsson, Master. Gosta Leonard    male   2.0      3   \n",
       "8  Johnson, Mrs. Oscar W (Elisabeth Vilhelmina Berg)  female  27.0      0   \n",
       "9                Nasser, Mrs. Nicholas (Adele Achem)  female  14.0      1   \n",
       "\n",
       "   Parch            Ticket     Fare Cabin Embarked  \n",
       "0      0         A/5 21171   7.2500   NaN        S  \n",
       "1      0          PC 17599  71.2833   C85        C  \n",
       "2      0  STON/O2. 3101282   7.9250   NaN        S  \n",
       "3      0            113803  53.1000  C123        S  \n",
       "4      0            373450   8.0500   NaN        S  \n",
       "5      0            330877   8.4583   NaN        Q  \n",
       "6      0             17463  51.8625   E46        S  \n",
       "7      1            349909  21.0750   NaN        S  \n",
       "8      2            347742  11.1333   NaN        S  \n",
       "9      0            237736  30.0708   NaN        C  "
      ]
     },
     "execution_count": 2,
     "metadata": {},
     "output_type": "execute_result"
    }
   ],
   "source": [
    "# Import Library Here\n",
    "import pandas as pd\n",
    "\n",
    "# Read titanic.csv here\n",
    "titanic = pd.read_csv(\".titanic.csv\")\n",
    "\n",
    "# Display the head of the dataset\n",
    "titanic.head(10)"
   ]
  },
  {
   "cell_type": "markdown",
   "metadata": {
    "id": "FRkdwRNtpcHI"
   },
   "source": [
    "# Task 2: Get a summary of the dataset using the `info()` method.\n",
    "\n"
   ]
  },
  {
   "cell_type": "code",
   "execution_count": 3,
   "metadata": {
    "deletable": false,
    "id": "jffVffwP6msF",
    "nbgrader": {
     "cell_type": "code",
     "checksum": "d2edde99b8dda21ba07aee90541ff552",
     "grade": true,
     "grade_id": "cell-cdd4ef62122aa747",
     "locked": false,
     "points": 0,
     "schema_version": 3,
     "solution": true,
     "task": false
    },
    "tags": []
   },
   "outputs": [
    {
     "name": "stdout",
     "output_type": "stream",
     "text": [
      "<class 'pandas.core.frame.DataFrame'>\n",
      "RangeIndex: 1000 entries, 0 to 999\n",
      "Data columns (total 12 columns):\n",
      " #   Column       Non-Null Count  Dtype  \n",
      "---  ------       --------------  -----  \n",
      " 0   PassengerId  1000 non-null   int64  \n",
      " 1   Survived     1000 non-null   int64  \n",
      " 2   Pclass       1000 non-null   int64  \n",
      " 3   Name         1000 non-null   object \n",
      " 4   Sex          1000 non-null   object \n",
      " 5   Age          823 non-null    float64\n",
      " 6   SibSp        1000 non-null   int64  \n",
      " 7   Parch        1000 non-null   int64  \n",
      " 8   Ticket       1000 non-null   object \n",
      " 9   Fare         1000 non-null   float64\n",
      " 10  Cabin        299 non-null    object \n",
      " 11  Embarked     998 non-null    object \n",
      "dtypes: float64(2), int64(5), object(5)\n",
      "memory usage: 93.9+ KB\n"
     ]
    }
   ],
   "source": [
    "# Display the info of the dataset\n",
    "titanic.info()"
   ]
  },
  {
   "cell_type": "markdown",
   "metadata": {
    "id": "3UOiBf8JpsBL"
   },
   "source": [
    "# Task 3: Use the `describe()` method to get the summary statistics of the numerical columns in the dataset.\n"
   ]
  },
  {
   "cell_type": "code",
   "execution_count": 4,
   "metadata": {
    "id": "38VhN2cypukY"
   },
   "outputs": [
    {
     "data": {
      "text/html": [
       "<div>\n",
       "<style scoped>\n",
       "    .dataframe tbody tr th:only-of-type {\n",
       "        vertical-align: middle;\n",
       "    }\n",
       "\n",
       "    .dataframe tbody tr th {\n",
       "        vertical-align: top;\n",
       "    }\n",
       "\n",
       "    .dataframe thead th {\n",
       "        text-align: right;\n",
       "    }\n",
       "</style>\n",
       "<table border=\"1\" class=\"dataframe\">\n",
       "  <thead>\n",
       "    <tr style=\"text-align: right;\">\n",
       "      <th></th>\n",
       "      <th>PassengerId</th>\n",
       "      <th>Survived</th>\n",
       "      <th>Pclass</th>\n",
       "      <th>Age</th>\n",
       "      <th>SibSp</th>\n",
       "      <th>Parch</th>\n",
       "      <th>Fare</th>\n",
       "    </tr>\n",
       "  </thead>\n",
       "  <tbody>\n",
       "    <tr>\n",
       "      <th>count</th>\n",
       "      <td>1000.000000</td>\n",
       "      <td>1000.000000</td>\n",
       "      <td>1000.000000</td>\n",
       "      <td>823.000000</td>\n",
       "      <td>1000.000000</td>\n",
       "      <td>1000.000000</td>\n",
       "      <td>1000.000000</td>\n",
       "    </tr>\n",
       "    <tr>\n",
       "      <th>mean</th>\n",
       "      <td>500.500000</td>\n",
       "      <td>0.404000</td>\n",
       "      <td>2.274000</td>\n",
       "      <td>30.177606</td>\n",
       "      <td>0.716000</td>\n",
       "      <td>0.571000</td>\n",
       "      <td>56.732249</td>\n",
       "    </tr>\n",
       "    <tr>\n",
       "      <th>std</th>\n",
       "      <td>288.819436</td>\n",
       "      <td>0.490943</td>\n",
       "      <td>0.840018</td>\n",
       "      <td>15.138305</td>\n",
       "      <td>1.312656</td>\n",
       "      <td>1.046926</td>\n",
       "      <td>98.014902</td>\n",
       "    </tr>\n",
       "    <tr>\n",
       "      <th>min</th>\n",
       "      <td>1.000000</td>\n",
       "      <td>0.000000</td>\n",
       "      <td>1.000000</td>\n",
       "      <td>0.420000</td>\n",
       "      <td>0.000000</td>\n",
       "      <td>0.000000</td>\n",
       "      <td>0.000000</td>\n",
       "    </tr>\n",
       "    <tr>\n",
       "      <th>25%</th>\n",
       "      <td>250.750000</td>\n",
       "      <td>0.000000</td>\n",
       "      <td>1.000000</td>\n",
       "      <td>21.000000</td>\n",
       "      <td>0.000000</td>\n",
       "      <td>0.000000</td>\n",
       "      <td>8.050000</td>\n",
       "    </tr>\n",
       "    <tr>\n",
       "      <th>50%</th>\n",
       "      <td>500.500000</td>\n",
       "      <td>0.000000</td>\n",
       "      <td>3.000000</td>\n",
       "      <td>29.000000</td>\n",
       "      <td>0.000000</td>\n",
       "      <td>0.000000</td>\n",
       "      <td>17.600000</td>\n",
       "    </tr>\n",
       "    <tr>\n",
       "      <th>75%</th>\n",
       "      <td>750.250000</td>\n",
       "      <td>1.000000</td>\n",
       "      <td>3.000000</td>\n",
       "      <td>39.500000</td>\n",
       "      <td>1.000000</td>\n",
       "      <td>1.000000</td>\n",
       "      <td>52.000000</td>\n",
       "    </tr>\n",
       "    <tr>\n",
       "      <th>max</th>\n",
       "      <td>1000.000000</td>\n",
       "      <td>1.000000</td>\n",
       "      <td>3.000000</td>\n",
       "      <td>80.000000</td>\n",
       "      <td>8.000000</td>\n",
       "      <td>6.000000</td>\n",
       "      <td>512.329200</td>\n",
       "    </tr>\n",
       "  </tbody>\n",
       "</table>\n",
       "</div>"
      ],
      "text/plain": [
       "       PassengerId     Survived       Pclass         Age        SibSp  \\\n",
       "count  1000.000000  1000.000000  1000.000000  823.000000  1000.000000   \n",
       "mean    500.500000     0.404000     2.274000   30.177606     0.716000   \n",
       "std     288.819436     0.490943     0.840018   15.138305     1.312656   \n",
       "min       1.000000     0.000000     1.000000    0.420000     0.000000   \n",
       "25%     250.750000     0.000000     1.000000   21.000000     0.000000   \n",
       "50%     500.500000     0.000000     3.000000   29.000000     0.000000   \n",
       "75%     750.250000     1.000000     3.000000   39.500000     1.000000   \n",
       "max    1000.000000     1.000000     3.000000   80.000000     8.000000   \n",
       "\n",
       "             Parch         Fare  \n",
       "count  1000.000000  1000.000000  \n",
       "mean      0.571000    56.732249  \n",
       "std       1.046926    98.014902  \n",
       "min       0.000000     0.000000  \n",
       "25%       0.000000     8.050000  \n",
       "50%       0.000000    17.600000  \n",
       "75%       1.000000    52.000000  \n",
       "max       6.000000   512.329200  "
      ]
     },
     "execution_count": 4,
     "metadata": {},
     "output_type": "execute_result"
    }
   ],
   "source": [
    "# use the describe method to view the statistics of the dataset\n",
    "titanic.describe()"
   ]
  },
  {
   "cell_type": "markdown",
   "metadata": {
    "id": "E9alZYhopz2D"
   },
   "source": [
    "# Task 4: Check if there are any missing values in the dataset using the `isnull().sum()` method.\n"
   ]
  },
  {
   "cell_type": "code",
   "execution_count": 5,
   "metadata": {
    "id": "eX0Bh52AHHa5"
   },
   "outputs": [
    {
     "data": {
      "text/plain": [
       "PassengerId      0\n",
       "Survived         0\n",
       "Pclass           0\n",
       "Name             0\n",
       "Sex              0\n",
       "Age            177\n",
       "SibSp            0\n",
       "Parch            0\n",
       "Ticket           0\n",
       "Fare             0\n",
       "Cabin          701\n",
       "Embarked         2\n",
       "dtype: int64"
      ]
     },
     "execution_count": 5,
     "metadata": {},
     "output_type": "execute_result"
    }
   ],
   "source": [
    "# Check the null/missing values in your dataset\n",
    "titanic.isnull().sum()"
   ]
  },
  {
   "cell_type": "markdown",
   "metadata": {
    "id": "3jodCjAY6msF"
   },
   "source": [
    "# Task 5: Visualize your Dataset\n",
    "\n",
    "**Reminder: before you start working on the next task, it might be a good time to save the notebook locally now (click \"File\" -> \"Download\").**\n",
    "\n",
    "---\n",
    "\n",
    "In this task you need to perform the following:\n",
    "\n",
    "1. Import the seaborn module as sns\n",
    "2. Use Seaborn to create a scatter plot matrix (pairplot) of the following features: 'Age', 'Fare', 'Pclass', 'Survived'.\n",
    "3. Use Seaborn to create a correlation heatmap of the entire dataset.\n",
    "4. Create a histogram of passenger ages\n",
    "\n"
   ]
  },
  {
   "cell_type": "code",
   "execution_count": 6,
   "metadata": {
    "id": "KtrlWbYf6msG",
    "tags": []
   },
   "outputs": [
    {
     "data": {
      "text/plain": [
       "<seaborn.axisgrid.PairGrid at 0x7f2e9ab43700>"
      ]
     },
     "execution_count": 6,
     "metadata": {},
     "output_type": "execute_result"
    },
    {
     "data": {
      "image/png": "[encoded data removed]",
      "text/plain": [
       "<Figure size 720x720 with 20 Axes>"
      ]
     },
     "metadata": {
      "needs_background": "light"
     },
     "output_type": "display_data"
    }
   ],
   "source": [
    "# Import Library Here\n",
    "import seaborn as sns\n",
    "\n",
    "# Create a pairplot with the features mentioned above\n",
    "sns.pairplot(titanic, vars=['Age', 'Fare', 'Pclass', 'Survived'])"
   ]
  },
  {
   "cell_type": "markdown",
   "metadata": {
    "id": "3IRU_TOr-shz"
   },
   "source": [
    "#### 3. Create a correlation matrix for your dataset using `.corr` function and seaborn's `.heatmap` function to visualize it"
   ]
  },
  {
   "cell_type": "code",
   "execution_count": 7,
   "metadata": {
    "id": "FeTousa9-qRB"
   },
   "outputs": [
    {
     "data": {
      "text/plain": [
       "<AxesSubplot:>"
      ]
     },
     "execution_count": 7,
     "metadata": {},
     "output_type": "execute_result"
    },
    {
     "data": {
      "image/png": "[encoded data removed]",
      "text/plain": [
       "<Figure size 432x288 with 2 Axes>"
      ]
     },
     "metadata": {
      "needs_background": "light"
     },
     "output_type": "display_data"
    }
   ],
   "source": [
    "# Create a correlation matrix for your dataset\n",
    "sns.heatmap(titanic.corr(), annot=True)"
   ]
  },
  {
   "cell_type": "markdown",
   "metadata": {
    "id": "F7da7tna-z8y"
   },
   "source": [
    "#### 4. Create a histogram of passenger ages"
   ]
  },
  {
   "cell_type": "code",
   "execution_count": 8,
   "metadata": {
    "id": "9WLnIzPP-3gZ"
   },
   "outputs": [
    {
     "data": {
      "text/plain": [
       "<AxesSubplot:xlabel='Age', ylabel='Count'>"
      ]
     },
     "execution_count": 8,
     "metadata": {},
     "output_type": "execute_result"
    },
    {
     "data": {
      "image/png": "[encoded data removed]",
      "text/plain": [
       "<Figure size 432x288 with 1 Axes>"
      ]
     },
     "metadata": {
      "needs_background": "light"
     },
     "output_type": "display_data"
    }
   ],
   "source": [
    "# Create a histogram of passenger ages\n",
    "sns.histplot(titanic['Age'])"
   ]
  },
  {
   "cell_type": "markdown",
   "metadata": {
    "id": "BhTeaBieTt-V"
   },
   "source": [
    "## Now that you have done some basic EDA to the titanic dataset, its time to ask more specific questions about the dataset. \n",
    "\n",
    "**Reminder: before you start working on the next task, it might be a good time to save the notebook locally now (click \"File\" -> \"Download\").**"
   ]
  },
  {
   "cell_type": "markdown",
   "metadata": {
    "id": "792OO78XvVQH"
   },
   "source": [
    "# Task 6: Insight about the titanic passengers\n",
    "\n",
    "## We would like to know more details about the passengers of the titanic.\n",
    "\n",
    "**Note: The exercise will be graded from this point on**\n",
    "\n",
    "#### Reminder about our Grading system\n",
    "\n",
    "- The notebook name should remain **unchanged**\n",
    "- The grading process relies on the existing cell order.\n",
    "- Therefore: Do not create new cells and do not delete existing cells in the notebook.\n",
    "- If you need/want to create new cells in the notebook, you can add them after the grading code.\n",
    "- If you need/want to have a draft notebook, use the JupyterLab_playground.ipynb notebook provided in this directory\n",
    "- Make sure that you have not created any new cells before this point"
   ]
  },
  {
   "cell_type": "markdown",
   "metadata": {
    "id": "wcaFAOJVwNcs"
   },
   "source": [
    "## Task 6.1: What is the distribution of passengers by sex? (1P)\n",
    "\n",
    "- How many males and females were on the titanic\n",
    "\n",
    "hint: What does ```value_counts()``` do?\n",
    "hint: Output should be in a Series"
   ]
  },
  {
   "cell_type": "code",
   "execution_count": 9,
   "metadata": {
    "id": "7YaWGxN3HHa8"
   },
   "outputs": [
    {
     "data": {
      "text/plain": [
       "male      632\n",
       "female    368\n",
       "Name: Sex, dtype: int64"
      ]
     },
     "execution_count": 9,
     "metadata": {},
     "output_type": "execute_result"
    }
   ],
   "source": [
    "def get_passenger_counts(titanic):\n",
    "    \"\"\"\n",
    "    Returns the distribution of passengers by sex in a Series.\n",
    "    \"\"\"\n",
    "    # TASK START - Start coding here:\n",
    "\n",
    "    result= titanic[\"Sex\"].value_counts()\n",
    "    \n",
    "    # TASK END\n",
    "    \n",
    "    return result\n",
    "\n",
    "get_passenger_counts(titanic)"
   ]
  },
  {
   "cell_type": "markdown",
   "metadata": {
    "id": "twdcsQSXw5uu"
   },
   "source": [
    "## Task 6.2: What is the average age of passengers on the titanic? (1P)\n",
    "hint: Output should be in a number (not rounded)"
   ]
  },
  {
   "cell_type": "code",
   "execution_count": 10,
   "metadata": {
    "id": "CeeiWut8HHa9"
   },
   "outputs": [
    {
     "data": {
      "text/plain": [
       "30.177606318347507"
      ]
     },
     "execution_count": 10,
     "metadata": {},
     "output_type": "execute_result"
    }
   ],
   "source": [
    "def get_average_age(titanic):\n",
    "    \"\"\"\n",
    "    Returns the average age of passengers on the Titanic as a single value not in a series.\n",
    "    \"\"\"\n",
    "\n",
    "    # TASK START - Start coding here:\n",
    "\n",
    "    result= titanic.Age.mean()\n",
    "    \n",
    "    # TASK END\n",
    "\n",
    "    return result\n",
    "\n",
    "get_average_age(titanic)"
   ]
  },
  {
   "cell_type": "markdown",
   "metadata": {
    "id": "IdYI_D3FyXRs"
   },
   "source": [
    "## Task 6.3: What is the survival rate of passengers by sex? (1P)\n",
    "\n",
    "hint: For this you will need to use the groupby function\n",
    "Extra hint: if you have 30 females on the Titanic and 15 survived, then the survival rate for females is 0.5\n",
    "hint: Output should be in a Series"
   ]
  },
  {
   "cell_type": "code",
   "execution_count": 11,
   "metadata": {
    "id": "0sNxTZAaxwhM"
   },
   "outputs": [
    {
     "data": {
      "text/plain": [
       "Sex\n",
       "female    0.717391\n",
       "male      0.221519\n",
       "Name: Survived, dtype: float64"
      ]
     },
     "execution_count": 11,
     "metadata": {},
     "output_type": "execute_result"
    }
   ],
   "source": [
    "def get_survival_rates(titanic):\n",
    "    \"\"\"\n",
    "    Returns the survival rate of passengers by sex in a Series.\n",
    "    \"\"\"\n",
    "\n",
    "    # TASK START - Start coding here:\n",
    "\n",
    "    result= titanic.groupby('Sex')['Survived'].mean()\n",
    "    \n",
    "    # TASK END\n",
    "\n",
    "    return result\n",
    "\n",
    "get_survival_rates(titanic)"
   ]
  },
  {
   "cell_type": "markdown",
   "metadata": {
    "id": "LB6Dj02fyaFF"
   },
   "source": [
    "## Task 6.4: What is the average fare paid by passengers on the Titanic? (1P)\n",
    "hint: Output should be a number (not rounded)"
   ]
  },
  {
   "cell_type": "code",
   "execution_count": 12,
   "metadata": {
    "id": "mfU2v70zx9ui"
   },
   "outputs": [
    {
     "data": {
      "text/plain": [
       "56.73224929999994"
      ]
     },
     "execution_count": 12,
     "metadata": {},
     "output_type": "execute_result"
    }
   ],
   "source": [
    "def get_average_fare(titanic):\n",
    "    \"\"\"\n",
    "    Returns the average fare paid by passengers on the Titanic as a value and not a series.\n",
    "    \"\"\"\n",
    "    \n",
    "    # TASK START - Start coding here:\n",
    "\n",
    "    result= titanic.Fare.mean()\n",
    "    \n",
    "    # TASK END\n",
    "\n",
    "    return result\n",
    "\n",
    "get_average_fare(titanic)"
   ]
  },
  {
   "cell_type": "markdown",
   "metadata": {
    "id": "ktgINi-0yaxp"
   },
   "source": [
    "## Task 6.5: What is the correlation between passenger age and fare paid? (1P)\n",
    "hint: Output should be a number (not rounded)"
   ]
  },
  {
   "cell_type": "code",
   "execution_count": 13,
   "metadata": {
    "id": "blACtbyoyEfE"
   },
   "outputs": [
    {
     "data": {
      "text/plain": [
       "0.06282033940082196"
      ]
     },
     "execution_count": 13,
     "metadata": {},
     "output_type": "execute_result"
    }
   ],
   "source": [
    "def get_age_fare_corr(titanic):\n",
    "    \"\"\"\n",
    "    Returns the correlation between passenger age and fare paid.\n",
    "    \"\"\"\n",
    "    \n",
    "    # TASK START - Start coding here:\n",
    "\n",
    "    result= titanic['Age'].corr(titanic['Fare'])\n",
    "    \n",
    "    # TASK END\n",
    "\n",
    "    return result\n",
    "\n",
    "get_age_fare_corr(titanic)"
   ]
  },
  {
   "cell_type": "markdown",
   "metadata": {
    "id": "dNSuBMq0ybQ3"
   },
   "source": [
    "## Task 6.6: What is the correlation between passenger class and survival? (1P)\n",
    "hint: Output should be a number (not rounded)"
   ]
  },
  {
   "cell_type": "code",
   "execution_count": 14,
   "metadata": {
    "id": "jBVpAyzzyLJq"
   },
   "outputs": [
    {
     "data": {
      "text/plain": [
       "-0.30509598788140097"
      ]
     },
     "execution_count": 14,
     "metadata": {},
     "output_type": "execute_result"
    }
   ],
   "source": [
    "def get_class_survival_corr(titanic):\n",
    "    \"\"\"\n",
    "    Returns the correlation between passenger class and survival rate.\n",
    "    \"\"\"\n",
    "\n",
    "    # TASK START - Start coding here:\n",
    "\n",
    "    result= titanic.Pclass.corr(titanic.Survived)\n",
    "    \n",
    "    # TASK END\n",
    "\n",
    "    return result\n",
    "    \n",
    "get_class_survival_corr(titanic)"
   ]
  },
  {
   "cell_type": "markdown",
   "metadata": {
    "id": "qBHFCri7y92b"
   },
   "source": [
    "### If you want to test your solution, you can execute the following code cell. If your solution passes our test, it will simply print `Test passed.` If it does not work, you will get an error. In this case you need to fix the code above.\n",
    "### (And do not forget to run the above code cell again!)"
   ]
  },
  {
   "cell_type": "code",
   "execution_count": 15,
   "metadata": {
    "id": "Rlzk0XJNzN0S"
   },
   "outputs": [
    {
     "name": "stdout",
     "output_type": "stream",
     "text": [
      "Tests Passed, Well Done 👏\n",
      "\n"
     ]
    },
    {
     "data": {
      "text/html": [
       "<pre style=\"white-space:pre;overflow-x:auto;line-height:normal;font-family:Menlo,'DejaVu Sans Mono',consolas,'Courier New',monospace\"><span style=\"color: #000080; text-decoration-color: #000080; font-weight: bold\">Code Efficiency Measures:</span>\n",
       "</pre>\n"
      ],
      "text/plain": [
       "\u001b[1;34mCode Efficiency Measures:\u001b[0m\n"
      ]
     },
     "metadata": {},
     "output_type": "display_data"
    },
    {
     "data": {
      "text/html": [
       "<pre style=\"white-space:pre;overflow-x:auto;line-height:normal;font-family:Menlo,'DejaVu Sans Mono',consolas,'Courier New',monospace\"><span style=\"color: #008000; text-decoration-color: #008000\">Runtime:</span> <span style=\"color: #008080; text-decoration-color: #008080; font-weight: bold\">0.0023241694999994954</span><span style=\"font-weight: bold\"> seconds</span>\n",
       "</pre>\n"
      ],
      "text/plain": [
       "\u001b[32mRuntime:\u001b[0m \u001b[1;36m0.0023241694999994954\u001b[0m\u001b[1m seconds\u001b[0m\n"
      ]
     },
     "metadata": {},
     "output_type": "display_data"
    }
   ],
   "source": [
    "test_titanic_EDA(get_passenger_counts,\n",
    "                 get_average_age,\n",
    "                 get_survival_rates,\n",
    "                 get_average_fare,\n",
    "                 get_age_fare_corr,\n",
    "                 get_class_survival_corr,\n",
    "                 titanic)"
   ]
  },
  {
   "cell_type": "markdown",
   "metadata": {
    "id": "0EP9ulri6msI"
   },
   "source": [
    "# Grading Task 6\n",
    "\n",
    "**Reminder: before you start grading the tasks, it might be a good time to save the notebook locally as well (click \"File\" -> \"Download\").**\n",
    "\n",
    "---\n",
    "Please follow these instructions before you run the below code cell to grade the tasks 6.1 through 6.6:\n",
    "\n",
    "- The notebook name should remain **unchanged**\n",
    "- Check that you have not modified the **Test case** code cells.\n",
    "- Check that you have **not created** new cells and **not deleted** existing cells in this notebook. (Otherwise the grading process might fail despite you having the correct solution, since it depends on the original order of notebook cell.)\n",
    "- Save (CTRL + S) your notebook everytime you want to have your tasks graded, the grader uses the last saved version.\n",
    "\n",
    "If you have done all the above, run the code cell below to run the grading process.\n",
    "Once that is done, click the \"Submit Assignment\" button and confirm your submission."
   ]
  },
  {
   "cell_type": "code",
   "execution_count": 16,
   "metadata": {
    "id": "wry5YTk76msI",
    "tags": []
   },
   "outputs": [
    {
     "name": "stdout",
     "output_type": "stream",
     "text": [
      "\u001b[34m╭─\u001b[0m\u001b[34m \u001b[0m\u001b[1;34mNote\u001b[0m\u001b[34m \u001b[0m\u001b[34m──────────────────────────────────────────────────────────────────────\u001b[0m\u001b[34m─╮\u001b[0m\n",
      "\u001b[34m│\u001b[0m \u001b[1mPlease make sure you have the correct notebook name for a successful grading\u001b[0m \u001b[34m│\u001b[0m\n",
      "\u001b[34m╰──────────────────────────────────────────────────────────────────────────────╯\u001b[0m\n",
      "\u001b[34m╭──────────────────────────────────────────────────────────────────────────────╮\u001b[0m\n",
      "\u001b[34m│\u001b[0m Notebook name received: \u001b[1m./Introduction_to_EDA.ipynb\u001b[0m                          \u001b[34m│\u001b[0m\n",
      "\u001b[34m╰──────────────────────────────────────────────────────────────────────────────╯\u001b[0m\n",
      "\n",
      "\u001b[1;34mTesting your solution for Task \u001b[0m\u001b[1;34m6\u001b[0m\u001b[1;34m:\u001b[0m \u001b[1;30mInsight about the titanic passengers\u001b[0m\n",
      "\u001b[32mTask \u001b[0m\u001b[1;32m6\u001b[0m\u001b[32m passed ✅\u001b[0m\n",
      "\n",
      "╭─────────────────────────────────── \u001b[1mScore\u001b[0m ────────────────────────────────────╮\n",
      "│ Your score is: \u001b[1;32m6.0\u001b[0m / \u001b[1;34m6.0\u001b[0m                                                     │\n",
      "╰──────────────────────────────────────────────────────────────────────────────╯\n"
     ]
    },
    {
     "data": {
      "application/vnd.jupyter.widget-view+json": {
       "model_id": "ccb9192002324aed848634b64598d7f5",
       "version_major": 2,
       "version_minor": 0
      },
      "text/plain": [
       "Button(button_style='success', description='Submit Assignment', style=ButtonStyle(), tooltip='https://jupyterh…"
      ]
     },
     "metadata": {},
     "output_type": "display_data"
    },
    {
     "data": {
      "application/vnd.jupyter.widget-view+json": {
       "model_id": "d48f143966c94f52833be2cdfebf1f21",
       "version_major": 2,
       "version_minor": 0
      },
      "text/plain": [
       "Output()"
      ]
     },
     "metadata": {},
     "output_type": "display_data"
    }
   ],
   "source": [
    "# Make sure the notebook name is unchanged\n",
    "!python3 Ex3_Grader.pyc\n",
    "%run -i .button.py"
   ]
  },
  {
   "cell_type": "markdown",
   "metadata": {
    "id": "MeG_V5kW6msJ"
   },
   "source": [
    "# Draft Cells\n",
    "\n",
    "Feel free to add as many cells bellow here and try differnt code."
   ]
  },
  {
   "cell_type": "code",
   "execution_count": null,
   "metadata": {
    "id": "WikOVspa6msJ"
   },
   "outputs": [],
   "source": []
  }
 ],
 "metadata": {
  "colab": {
   "provenance": []
  },
  "kernelspec": {
   "display_name": "Python 3 (ipykernel)",
   "language": "python",
   "name": "python3"
  },
  "language_info": {
   "codemirror_mode": {
    "name": "ipython",
    "version": 3
   },
   "file_extension": ".py",
   "mimetype": "text/x-python",
   "name": "python",
   "nbconvert_exporter": "python",
   "pygments_lexer": "ipython3",
   "version": "3.9.7"
  }
 },
 "nbformat": 4,
 "nbformat_minor": 4
}
